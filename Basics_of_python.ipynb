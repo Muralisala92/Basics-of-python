{
  "nbformat": 4,
  "nbformat_minor": 0,
  "metadata": {
    "colab": {
      "provenance": []
    },
    "kernelspec": {
      "name": "python3",
      "display_name": "Python 3"
    },
    "language_info": {
      "name": "python"
    }
  },
  "cells": [
    {
      "cell_type": "code",
      "source": [
        "# @title Prime Numbers\n"
      ],
      "metadata": {
        "id": "zZ--zaDnb76k"
      },
      "execution_count": 6,
      "outputs": []
    },
    {
      "cell_type": "code",
      "execution_count": 5,
      "metadata": {
        "colab": {
          "base_uri": "https://localhost:8080/"
        },
        "id": "eud-wKGvaa2f",
        "outputId": "b568132b-e634-41c5-ac40-2833da11c3d8"
      },
      "outputs": [
        {
          "output_type": "stream",
          "name": "stdout",
          "text": [
            "Enter a number: 11\n",
            "11 is a prime number.\n"
          ]
        }
      ],
      "source": [
        "def is_prime(number):\n",
        "    \"\"\"Checks if a given number is prime.\"\"\"\n",
        "    if number <= 1:\n",
        "        return False\n",
        "    if number <= 3:\n",
        "        return True\n",
        "    if number % 2 == 0 or number % 3 == 0:\n",
        "        return False\n",
        "    i = 5\n",
        "    while i * i <= number:\n",
        "        if number % i == 0 or number % (i + 2) == 0:\n",
        "            return False\n",
        "        i += 6\n",
        "    return True\n",
        "\n",
        "num = int(input(\"Enter a number: \"))\n",
        "if is_prime(num):\n",
        "    print(num, \"is a prime number.\")\n",
        "else:\n",
        "    print(num, \"is not a prime number.\")"
      ]
    },
    {
      "cell_type": "code",
      "source": [
        "# @title Product of Random Numbers\n"
      ],
      "metadata": {
        "cellView": "form",
        "id": "yGo4wwZmaepQ"
      },
      "execution_count": 2,
      "outputs": []
    },
    {
      "cell_type": "code",
      "source": [
        "import random\n",
        "\n",
        "num1 = random.randint(1, 100)\n",
        "num2 = random.randint(1, 100)\n",
        "\n",
        "print(\"What is the product of\", num1, \"and\", num2, \"?\")\n",
        "user_answer = int(input())\n",
        "\n",
        "if user_answer == num1 * num2:\n",
        "    print(\"Correct!\")\n",
        "else:\n",
        "    print(\"Incorrect. The correct answer is\", num1 * num2)"
      ],
      "metadata": {
        "colab": {
          "base_uri": "https://localhost:8080/"
        },
        "id": "BQM3xjUZbTKJ",
        "outputId": "a698f348-8a5a-4df4-a9af-c2fc67fe46c4"
      },
      "execution_count": null,
      "outputs": [
        {
          "output_type": "stream",
          "name": "stdout",
          "text": [
            "What is the product of 77 and 61 ?\n"
          ]
        }
      ]
    },
    {
      "cell_type": "code",
      "source": [
        "# @title  Squares of Even/Odd Numbers\n",
        "\n"
      ],
      "metadata": {
        "id": "ZXpngX_wbUGl"
      },
      "execution_count": null,
      "outputs": []
    },
    {
      "cell_type": "code",
      "source": [
        "# Choose either even or odd numbers\n",
        "is_even = True  # Change to False for odd numbers\n",
        "\n",
        "start = 100\n",
        "end = 200\n",
        "\n",
        "if is_even:\n",
        "    print(\"Squares of even numbers:\")\n",
        "    for num in range(start, end + 1, 2):\n",
        "        print(num**2, end=\" \")\n",
        "else:\n",
        "    print(\"Squares of odd numbers:\")\n",
        "    for num in range(start + 1, end + 1, 2):\n",
        "        print(num**2, end=\" \")"
      ],
      "metadata": {
        "id": "1gWKjSuabk6h"
      },
      "execution_count": null,
      "outputs": []
    },
    {
      "cell_type": "code",
      "source": [
        "# @title Word Counter\n"
      ],
      "metadata": {
        "id": "CYXsJJI2bmxM"
      },
      "execution_count": null,
      "outputs": []
    },
    {
      "cell_type": "code",
      "source": [
        "def count_words(text):\n",
        "    \"\"\"Counts the number of words in a given text.\"\"\"\n",
        "    words = text.split()\n",
        "    word_count = {}\n",
        "    for word in words:\n",
        "        word_count[word] = word_count.get(word, 0) + 1\n",
        "    return word_count\n",
        "\n",
        "input_text = \"This is a sample text. This text will be used to demonstrate the word counter.\"\n",
        "word_counts = count_words(input_text)\n",
        "for word, count in word_counts.items():\n",
        "    print(f\"'{word}': {count}\")"
      ],
      "metadata": {
        "id": "CXQdt6XEbsTs"
      },
      "execution_count": null,
      "outputs": []
    },
    {
      "cell_type": "code",
      "source": [
        "# @title Check for Palindrome\n"
      ],
      "metadata": {
        "id": "GGYeg4OXbw1R"
      },
      "execution_count": null,
      "outputs": []
    },
    {
      "cell_type": "code",
      "source": [
        "def is_palindrome(text):\n",
        "    \"\"\"Checks if a given string is a palindrome.\"\"\"\n",
        "    text = text.lower().replace(\" \", \"\")\n",
        "    return text == text[::-1]\n",
        "\n",
        "text = input(\"Enter a text: \")\n",
        "if is_palindrome(text):\n",
        "    print(\"It's a palindrome!\")\n",
        "else:\n",
        "    print(\"It's not a palindrome.\")"
      ],
      "metadata": {
        "id": "RHyuMn-QbzxC"
      },
      "execution_count": null,
      "outputs": []
    }
  ]
}